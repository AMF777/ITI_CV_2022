{
 "cells": [
  {
   "cell_type": "code",
   "execution_count": 2,
   "metadata": {},
   "outputs": [],
   "source": [
    "# import packages\n",
    "import cv2\n",
    "from datetime import datetime\n",
    "import math\n",
    "import numpy as np "
   ]
  },
  {
   "cell_type": "code",
   "execution_count": 3,
   "metadata": {},
   "outputs": [
    {
     "name": "stdout",
     "output_type": "stream",
     "text": [
      "[300, 330, 0, 30, 60, 90, 120, 150, 180, 210, 240, 270]\n",
      "[0, 6, 12, 18, 24, 30, 36, 42, 48, 54, 60, 66, 72, 78, 84, 90, 96, 102, 108, 114, 120, 126, 132, 138, 144, 150, 156, 162, 168, 174, 180, 186, 192, 198, 204, 210, 216, 222, 228, 234, 240, 246, 252, 258, 264, 270, 276, 282, 288, 294, 300, 306, 312, 318, 324, 330, 336, 342, 348, 354]\n",
      "[6, 12, 18, 24, 36, 42, 48, 54, 66, 72, 78, 84, 96, 102, 108, 114, 126, 132, 138, 144, 156, 162, 168, 174, 186, 192, 198, 204, 216, 222, 228, 234, 246, 252, 258, 264, 276, 282, 288, 294, 306, 312, 318, 324, 336, 342, 348, 354]\n"
     ]
    }
   ],
   "source": [
    "angles_HR=[]\n",
    "angles_Min=[]\n",
    "angles_Mindraw=[]\n",
    "Hours=[1,2,3,4,5,6,7,8,9,10,11,12]\n",
    "for i in range(10):\n",
    "  angles_HR.append(i*30)\n",
    "angles_HR=[300,330]+angles_HR\n",
    "print(angles_HR)\n",
    "for i in range(60):\n",
    "  angles_Min.append(i*6)\n",
    "for i in angles_Min:\n",
    "  if i in  angles_HR:\n",
    "    continue\n",
    "  else:\n",
    "    angles_Mindraw.append(i)\n",
    "print(angles_Min)\n",
    "print(angles_Mindraw)\n"
   ]
  },
  {
   "cell_type": "code",
   "execution_count": 4,
   "metadata": {},
   "outputs": [],
   "source": [
    "# time\n",
    "def getTime(img):\n",
    "  t_now=datetime.now()\n",
    "  date_string=t_now.strftime(\"%d/%m/%Y %H:%M:%S\")\n",
    "  date=\"Date: \"+date_string.split()[0]\n",
    "  time=\"Time: \"+date_string.split()[1]\n",
    "  cv2.putText(img,date,(15,50),font,1,(255,255,255),2,cv2.LINE_AA)\n",
    "  cv2.putText(img,time,(15,80),font,1,(255,255,255),2,cv2.LINE_AA)\n",
    "  return t_now\n"
   ]
  },
  {
   "cell_type": "markdown",
   "metadata": {},
   "source": [
    "![MarineGEO circle logo](https://textimgs.s3.amazonaws.com/boundless-algebra/lhntemhracxenling6eg.jpe \"MarineGEO logo\")"
   ]
  },
  {
   "cell_type": "code",
   "execution_count": 6,
   "metadata": {},
   "outputs": [],
   "source": [
    "radius=100\n",
    "x_c=250\n",
    "y_c=250\n",
    "def draw_image(radius,x_c,y_c):\n",
    "  img=np.zeros((500,500,3),np.uint8)\n",
    "  C_main=cv2.circle(img,(x_c,y_c),radius,(0,0,255),2)\n",
    "  for i in angles_HR:\n",
    "    x_hr=np.uint16(250+95*math.cos(np.deg2rad(i)))\n",
    "    y_hr=np.uint16(250+95*math.sin(np.deg2rad(i)))\n",
    "    c_hrs=Circle2=cv2.circle(img,(x_hr,y_hr),5,(255,0,0),2)\n",
    "  for i in angles_Mindraw:\n",
    "    x_min=np.uint16(250+98*math.cos(np.deg2rad(i)))\n",
    "    y_min=np.uint16(250+98*math.sin(np.deg2rad(i)))\n",
    "    c_min=Circle2=cv2.circle(img,(x_min,y_min),2,(0,255,255),1)\n",
    "  font=cv2.FONT_HERSHEY_SIMPLEX\n",
    "  for i in range(12):\n",
    "    x_hr=np.uint16(250+135*math.cos(np.deg2rad(angles_HR[i])))\n",
    "    y_hr=np.uint16(265+135*math.sin(np.deg2rad(angles_HR[i])))\n",
    "    cv2.putText(img,str(Hours[i]),(x_hr-10,y_hr-10),font,1,(245,215,224),1)\n",
    "  return img\n",
    "font=cv2.FONT_HERSHEY_SIMPLEX\n",
    "while True:\n",
    "  img=draw_image(radius,x_c,y_c)\n",
    "  now=getTime(img)\n",
    "  hour = now.hour\n",
    "  mins = now.minute\n",
    "  sec  = now.second\n",
    "  micro = now.microsecond\n",
    "  if hour>12:\n",
    "      hour= hour - 12\n",
    "      #to make clock continuous\n",
    "  h_angle = angles_HR[hour-1] + 0.5*mins\n",
    "  m_angle = angles_Min[mins-15] + 0.1*sec\n",
    "  s_angle = angles_Min[sec-15] +0.000006*micro\n",
    "\n",
    "\n",
    "\n",
    "  x_hour = int((radius-50)*math.cos(np.deg2rad(h_angle)))\n",
    "  y_hour = int((radius-50)*math.sin(np.deg2rad(h_angle)))\n",
    "\n",
    "\n",
    "\n",
    "  x_mins = int(radius*math.cos(np.deg2rad(m_angle)))\n",
    "  y_mins = int(radius*math.sin(np.deg2rad(m_angle)))\n",
    "\n",
    "\n",
    "\n",
    "  x_sec = int((radius-30)*math.cos(np.deg2rad(s_angle)))\n",
    "  y_sec = int((radius-30)*math.sin(np.deg2rad(s_angle)))\n",
    "\n",
    "\n",
    "\n",
    "  cv2.line(img, (x_c,y_c), (x_c+x_mins,y_c+y_mins), (255,255,255), 5)    #mins\n",
    "  cv2.line(img, (x_c,y_c), (x_c+x_hour,y_c+y_hour), (0,255,255), 7)    #hours\n",
    "  cv2.line(img, (x_c,y_c), (x_c+x_sec,y_c+y_sec), (170,170,170), 2)    #seconds\n",
    "  cv2.circle(img,(x_c,y_c), 5, (0,0,255), -1)\n",
    "  cv2.imshow('image',img)\n",
    "  k=cv2.waitKey(1)\n",
    "  if k==ord('q'):\n",
    "    break\n",
    "cv2.destroyAllWindows()"
   ]
  }
 ],
 "metadata": {
  "kernelspec": {
   "display_name": "Python 3.10.7 64-bit",
   "language": "python",
   "name": "python3"
  },
  "language_info": {
   "codemirror_mode": {
    "name": "ipython",
    "version": 3
   },
   "file_extension": ".py",
   "mimetype": "text/x-python",
   "name": "python",
   "nbconvert_exporter": "python",
   "pygments_lexer": "ipython3",
   "version": "3.10.7"
  },
  "orig_nbformat": 4,
  "vscode": {
   "interpreter": {
    "hash": "963b430475183bdf034750e7e926357d51eb2402a401d3dbb57acc979f6a83bd"
   }
  }
 },
 "nbformat": 4,
 "nbformat_minor": 2
}
