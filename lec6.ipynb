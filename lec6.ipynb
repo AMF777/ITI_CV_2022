{
 "cells": [
  {
   "cell_type": "code",
   "execution_count": 10,
   "metadata": {},
   "outputs": [],
   "source": [
    "import cv2\n",
    "import numpy as np\n",
    "from matplotlib import pyplot as plt"
   ]
  },
  {
   "cell_type": "code",
   "execution_count": 11,
   "metadata": {},
   "outputs": [
    {
     "data": {
      "text/plain": [
       "<matplotlib.image.AxesImage at 0x27527eba4d0>"
      ]
     },
     "execution_count": 11,
     "metadata": {},
     "output_type": "execute_result"
    },
    {
     "data": {
      "image/png": "[encoded data removed]",
      "text/plain": [
       "<Figure size 640x480 with 1 Axes>"
      ]
     },
     "metadata": {},
     "output_type": "display_data"
    }
   ],
   "source": [
    "img = np.zeros((500,500,3),np.uint8)\n",
    "cv2.rectangle(img,(100,50),(250,250),(0,0,255),3)\n",
    "plt.imshow(img)\n",
    "cv2.line(img,(100,250),(250,50),(255,0,0),2)\n",
    "cv2.line(img,(100,50),(250,250),(255,0,0),2)\n",
    "plt.imshow(img)\n"
   ]
  },
  {
   "cell_type": "code",
   "execution_count": 6,
   "metadata": {},
   "outputs": [],
   "source": [
    "cv2.namedWindow(\"image\")\n",
    "def nothing(x):\n",
    "    pass\n",
    "cv2.createTrackbar('x0','image',0,499,nothing)\n",
    "cv2.createTrackbar('x1','image',0,499,nothing)\n",
    "cv2.createTrackbar('y0','image',0,499,nothing)\n",
    "cv2.createTrackbar('y1','image',0,499,nothing)\n",
    "cv2.createTrackbar('thick','image',1,10,nothing)\n",
    "while True:\n",
    "    img=np.zeros((500,500,3),np.uint8)\n",
    "    x0=cv2.getTrackbarPos('x0','image')\n",
    "    x1=cv2.getTrackbarPos('x1','image')\n",
    "    y0=cv2.getTrackbarPos('y0','image')\n",
    "    y1=cv2.getTrackbarPos('y1','image')\n",
    "    thick_2=cv2.getTrackbarPos('thick','image')\n",
    "    cv2.line(img,(x0,y0),(x1,y1),(0,0,255),thick_2)\n",
    "    cv2.circle(img,(250,250),100,(255,0,0),2)\n",
    "    cv2.imshow('my_image',img)\n",
    "    k=cv2.waitKey(1)\n",
    "    if k==ord('q'):\n",
    "        break\n",
    "cv2.destroyAllWindows()"
   ]
  },
  {
   "cell_type": "markdown",
   "metadata": {},
   "source": [
    "![MarineGEO circle logo](https://textimgs.s3.amazonaws.com/boundless-algebra/lhntemhracxenling6eg.jpe \"MarineGEO logo\")"
   ]
  },
  {
   "cell_type": "code",
   "execution_count": null,
   "metadata": {},
   "outputs": [],
   "source": [
    "import math\n",
    "from tkinter import Y\n",
    "cv2.namedWindow(\"image\")\n",
    "def nothing(x):\n",
    "    pass\n",
    "cv2.createTrackbar('angle','image',0,360,nothing)\n",
    "\n",
    "while True:\n",
    "  img=np.zeros((500,500,3),np.uint8)\n",
    "  angle=cv2.getTrackbarPos('angle','image')\n",
    "  cv2.circle(img,(250,250),100,(255,0,0),2)\n",
    "  x=np.uint16(250+100*math.cos(np.deg2rad(angle)))\n",
    "  y=np.uint16(250+100*math.sin(np.deg2rad(angle)))\n",
    "  cv2.line(img,(250,250),(x,y),(0,0,255),2)\n",
    "  cv2.imshow('my_image',img)\n",
    "  k=cv2.waitKey(1)\n",
    "  if k==ord('q'):\n",
    "     break\n",
    "cv2.destroyAllWindows()"
   ]
  }
 ],
 "metadata": {
  "kernelspec": {
   "display_name": "Python 3.10.7 64-bit",
   "language": "python",
   "name": "python3"
  },
  "language_info": {
   "codemirror_mode": {
    "name": "ipython",
    "version": 3
   },
   "file_extension": ".py",
   "mimetype": "text/x-python",
   "name": "python",
   "nbconvert_exporter": "python",
   "pygments_lexer": "ipython3",
   "version": "3.10.7"
  },
  "orig_nbformat": 4,
  "vscode": {
   "interpreter": {
    "hash": "963b430475183bdf034750e7e926357d51eb2402a401d3dbb57acc979f6a83bd"
   }
  }
 },
 "nbformat": 4,
 "nbformat_minor": 2
}
