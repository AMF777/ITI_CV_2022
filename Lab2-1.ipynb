{
 "cells": [
  {
   "cell_type": "markdown",
   "metadata": {},
   "source": [
    "# Q1 -Write a program to display the last digit of a number"
   ]
  },
  {
   "cell_type": "code",
   "execution_count": 22,
   "metadata": {},
   "outputs": [
    {
     "name": "stdout",
     "output_type": "stream",
     "text": [
      "last digit is 5\n"
     ]
    }
   ],
   "source": [
    "x=input(\"enter a number\")\n",
    "print(\"last digit is \"+ x[-1])"
   ]
  },
  {
   "cell_type": "markdown",
   "metadata": {},
   "source": [
    "# Q2- Write a program to check whether the last digit of a number( entered by user ) is divisible by 3 or not."
   ]
  },
  {
   "cell_type": "code",
   "execution_count": 23,
   "metadata": {},
   "outputs": [
    {
     "name": "stdout",
     "output_type": "stream",
     "text": [
      "the last digit isn't divisible by 3\n"
     ]
    }
   ],
   "source": [
    "y=input(\"enter a number :\")\n",
    "last=int(y[-1])\n",
    "if last %3 ==0:\n",
    "  print(\"the last digit is divisible by 3\")\n",
    "else:\n",
    "  print(\"the last digit isn't divisible by 3\")"
   ]
  },
  {
   "cell_type": "markdown",
   "metadata": {},
   "source": [
    "# Q3-Write a program to accept a number from 1 to 7 and display the name of the day like 1 for Sunday , 2 for Monday and so on"
   ]
  },
  {
   "cell_type": "code",
   "execution_count": 24,
   "metadata": {},
   "outputs": [
    {
     "name": "stdout",
     "output_type": "stream",
     "text": [
      "Thursday\n"
     ]
    }
   ],
   "source": [
    "#from curses.ascii import isdigit\n",
    "\n",
    "days=[\"Sunday\",\"Monday\",\"Tuesday\",\"Wednesday\",\"Thursday\",\"Friday\",\"Saturday\"]\n",
    "day=input(\"enter the number of day from 1 to 7 where 1 is sun and 2 in Mon and so on\")\n",
    "while (not(day.isdigit() and (int(day)>0 and int(day)<8))):\n",
    "  day=input(\"enter the number of day from 1 to 7 where 1 is sun and 2 in Mon and so on\")\n",
    "index=int(day)\n",
    "print(days[index-1])\n"
   ]
  },
  {
   "cell_type": "markdown",
   "metadata": {},
   "source": [
    "# Q4- Write a program to check a character is vowel or not"
   ]
  },
  {
   "cell_type": "code",
   "execution_count": 25,
   "metadata": {},
   "outputs": [
    {
     "name": "stdout",
     "output_type": "stream",
     "text": [
      "y is a vowel\n"
     ]
    }
   ],
   "source": [
    "vowels=[\"a\",\"e\",\"i\",\"o\",\"u\",\"y\"]\n",
    "cha=input(\"enter a character :\")\n",
    "flag=0\n",
    "for i in vowels:\n",
    "  if(cha.lower()==i):\n",
    "    flag=1\n",
    "    if flag==1:\n",
    "      print(f\"{cha} is a vowel\")\n",
    "      break\n",
    "if flag==0:\n",
    "  print(f\"{cha} isn't a vowel\")"
   ]
  },
  {
   "cell_type": "markdown",
   "metadata": {},
   "source": [
    "# Q5- Accept the marked price from the user and calculate the Net amount as(Marked Price – Discount) to pay according to following criteria:\n",
    "| Marked price      | Discount |\n",
    "| ----------- | ----------- |\n",
    "| >10000      | 20%       |\n",
    "| >7000 and <=10000   | 15%        |\n",
    "| <=7000   | 10%        |"
   ]
  },
  {
   "cell_type": "code",
   "execution_count": 26,
   "metadata": {},
   "outputs": [
    {
     "name": "stdout",
     "output_type": "stream",
     "text": [
      "the marked price is 12720.0\n"
     ]
    }
   ],
   "source": [
    "price=float(input(\"please enter the marked price\"))\n",
    "if price>10000:\n",
    "  price=price-(price*0.2)\n",
    "elif price>7000 and price<=10000:\n",
    " price=price-(price*0.15)\n",
    "else:\n",
    "   price=price-(price*0.10)\n",
    "print(f\"the marked price is {price}\")"
   ]
  },
  {
   "cell_type": "markdown",
   "metadata": {},
   "source": [
    "# Q6- Use a loop to display elements from a given list that are present at odd index positions lst = [10, 20, 30, 40, 50, 60, 70, 80, 90, 100]"
   ]
  },
  {
   "cell_type": "code",
   "execution_count": 27,
   "metadata": {},
   "outputs": [
    {
     "name": "stdout",
     "output_type": "stream",
     "text": [
      "20\n",
      "40\n",
      "60\n",
      "80\n",
      "100\n"
     ]
    }
   ],
   "source": [
    "lst=[10, 20, 30, 40, 50, 60, 70, 80, 90, 100]\n",
    "for i in range(1,len(lst),2):# we will start from index 1 then 3 then 5 and so on\n",
    "  print(lst[i])"
   ]
  },
  {
   "cell_type": "markdown",
   "metadata": {},
   "source": [
    "# Q7- Write program to print the following pattern using loop\n",
    "# 1\n",
    "# 1 2\n",
    "# 1 2 3\n",
    "# 1 2 3 4"
   ]
  },
  {
   "cell_type": "code",
   "execution_count": 28,
   "metadata": {},
   "outputs": [
    {
     "name": "stdout",
     "output_type": "stream",
     "text": [
      "1 \n",
      "1 2 \n",
      "1 2 3 \n",
      "1 2 3 4 \n"
     ]
    }
   ],
   "source": [
    "rows = 4\n",
    "for i in range(1, rows + 1):\n",
    "    for j in range(1, i + 1):\n",
    "        print(j, end=' ')\n",
    "    print('')"
   ]
  },
  {
   "cell_type": "markdown",
   "metadata": {},
   "source": [
    "# Q8 - Write a program that keep on accepting number from the user until user enters Zero. Display the sum and average of all the numbers."
   ]
  },
  {
   "cell_type": "code",
   "execution_count": 32,
   "metadata": {},
   "outputs": [
    {
     "name": "stdout",
     "output_type": "stream",
     "text": [
      "[1, 5, 6]\n",
      "the sum is 12\n",
      "the average is 4.0\n"
     ]
    }
   ],
   "source": [
    "list1=[]\n",
    "num=input(\"enter a number: \")\n",
    "while not (int(num)== 0):\n",
    "  list1.append(int(num))\n",
    "  num=input(\"enter a number: \")\n",
    "print(list1)\n",
    "sum =0\n",
    "for i in range(len(list1)):\n",
    "  sum+=list1[i]\n",
    "print(f\"the sum is {sum}\")\n",
    "print(f\"the average is {sum/len(list1)}\")\n"
   ]
  },
  {
   "cell_type": "markdown",
   "metadata": {},
   "source": [
    "# Q9-Generate a Python list of all the even numbers between 4 to 30"
   ]
  },
  {
   "cell_type": "code",
   "execution_count": 33,
   "metadata": {},
   "outputs": [
    {
     "name": "stdout",
     "output_type": "stream",
     "text": [
      "[4, 6, 8, 10, 12, 14, 16, 18, 20, 22, 24, 26, 28]\n"
     ]
    }
   ],
   "source": [
    "list2=[]\n",
    "for i in range(4,30,2):\n",
    "  list2.append(i)\n",
    "print(list2)"
   ]
  },
  {
   "cell_type": "markdown",
   "metadata": {},
   "source": [
    "# Q10- Make Method to Return the Maximum and Minimum item from the given list. lst=[100,30,22,40,60,20,10,300]\n"
   ]
  },
  {
   "cell_type": "code",
   "execution_count": 40,
   "metadata": {},
   "outputs": [
    {
     "name": "stdout",
     "output_type": "stream",
     "text": [
      "the maximum element in the list is 300\n",
      "the minimum element in the list is 10\n"
     ]
    }
   ],
   "source": [
    "def maxItem(lst):\n",
    "  maxNum=lst[0]\n",
    "  for i in lst:\n",
    "    if maxNum < i:\n",
    "      maxNum=i\n",
    "  return maxNum\n",
    "def minItem(lst):\n",
    "  minNum=lst[0]\n",
    "  for i in lst:\n",
    "    if minNum > i:\n",
    "      minNum=i\n",
    "  return minNum\n",
    "\n",
    "list3=[100,30,22,40,60,20,10,300]\n",
    "print(f\"the maximum element in the list is {maxItem(list3)}\")\n",
    "print(f\"the minimum element in the list is {minItem(list3)}\")\n"
   ]
  }
 ],
 "metadata": {
  "kernelspec": {
   "display_name": "Python 3.10.7 64-bit",
   "language": "python",
   "name": "python3"
  },
  "language_info": {
   "codemirror_mode": {
    "name": "ipython",
    "version": 3
   },
   "file_extension": ".py",
   "mimetype": "text/x-python",
   "name": "python",
   "nbconvert_exporter": "python",
   "pygments_lexer": "ipython3",
   "version": "3.10.7"
  },
  "orig_nbformat": 4,
  "vscode": {
   "interpreter": {
    "hash": "963b430475183bdf034750e7e926357d51eb2402a401d3dbb57acc979f6a83bd"
   }
  }
 },
 "nbformat": 4,
 "nbformat_minor": 2
}
